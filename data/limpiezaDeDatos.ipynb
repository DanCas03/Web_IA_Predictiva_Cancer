{
 "cells": [
  {
   "cell_type": "markdown",
   "id": "580e86f2",
   "metadata": {},
   "source": [
    "# Primero importo mi DataFrame"
   ]
  },
  {
   "cell_type": "code",
   "execution_count": null,
   "id": "d88b7ce9",
   "metadata": {},
   "outputs": [],
   "source": [
    "import pandas as pd\n",
    "import numpy as np\n",
    "import matplotlib.pyplot as plt\n",
    "import seaborn as sns\n",
    "\n",
    "# Cargar el dataset\n",
    "df = pd.read_csv('liver_cancer_data.csv')\n",
    "\n",
    "print(\"✓ DataFrame cargado con éxito\")\n",
    "print(f\"Dimensiones originales: {df.shape}\")\n",
    "print(f\"\\nColumnas: {df.columns.tolist()}\")\n",
    "print(\"\\nPrimeras filas:\")\n",
    "df.head()"
   ]
  },
  {
   "cell_type": "markdown",
   "id": "3acdaa96",
   "metadata": {},
   "source": [
    "# Vamos a chequear si hay valores atípicos"
   ]
  },
  {
   "cell_type": "code",
   "execution_count": null,
   "id": "9ce8e508",
   "metadata": {},
   "outputs": [],
   "source": [
    "# Verificar valores faltantes\n",
    "missing_values = df.isnull().sum()\n",
    "print(\"Valores faltantes por columna:\")\n",
    "print(missing_values[missing_values > 0])\n",
    "print(f\"\\nTotal de filas antes de limpiar: {len(df)}\")\n",
    "print(f\"Filas con al menos un valor faltante: {df.isnull().any(axis=1).sum()}\")\n",
    "\n",
    "# Visualizar valores faltantes\n",
    "if missing_values.sum() > 0:\n",
    "    plt.figure(figsize=(10, 6))\n",
    "    missing_values[missing_values > 0].plot(kind='bar')\n",
    "    plt.title('Valores Faltantes por Columna')\n",
    "    plt.ylabel('Cantidad')\n",
    "    plt.xticks(rotation=45)\n",
    "    plt.tight_layout()\n",
    "    plt.show()\n",
    "else:\n",
    "    print(\"\\n✓ No hay valores faltantes en el dataset\")"
   ]
  },
  {
   "cell_type": "markdown",
   "id": "020ab6aa",
   "metadata": {},
   "source": [
    "\n"
   ]
  },
  {
   "cell_type": "code",
   "execution_count": null,
   "id": "86ab3db0",
   "metadata": {},
   "outputs": [],
   "source": [
    "\n"
   ]
  },
  {
   "cell_type": "markdown",
   "id": "ab94d160",
   "metadata": {},
   "source": [
    "\n"
   ]
  },
  {
   "cell_type": "code",
   "execution_count": null,
   "id": "7d07d690",
   "metadata": {},
   "outputs": [],
   "source": [
    "\n"
   ]
  },
  {
   "cell_type": "markdown",
   "id": "9a7be415",
   "metadata": {},
   "source": [
    "\n"
   ]
  },
  {
   "cell_type": "code",
   "execution_count": null,
   "id": "7a1cc25f",
   "metadata": {},
   "outputs": [],
   "source": [
    "\n"
   ]
  },
  {
   "cell_type": "markdown",
   "id": "63d75e4a",
   "metadata": {},
   "source": [
    "\n"
   ]
  },
  {
   "cell_type": "code",
   "execution_count": null,
   "id": "9d481c78",
   "metadata": {},
   "outputs": [],
   "source": [
    "\n"
   ]
  },
  {
   "cell_type": "markdown",
   "id": "ff11162b",
   "metadata": {},
   "source": [
    "\n"
   ]
  },
  {
   "cell_type": "code",
   "execution_count": null,
   "id": "cbcce2de",
   "metadata": {},
   "outputs": [],
   "source": [
    "\n"
   ]
  },
  {
   "cell_type": "markdown",
   "id": "0351c7aa",
   "metadata": {},
   "source": [
    "\n"
   ]
  },
  {
   "cell_type": "code",
   "execution_count": null,
   "id": "33cd38a0",
   "metadata": {},
   "outputs": [],
   "source": [
    "# Resumen de la limpieza\n",
    "print(\"=\"*60)\n",
    "print(\"RESUMEN DE LA LIMPIEZA DE DATOS\")\n",
    "print(\"=\"*60)\n",
    "print(f\"Dimensiones del dataset original: {df.shape}\")\n",
    "print(f\"Dimensiones del dataset limpio: {df_clean.shape}\")\n",
    "print(f\"Filas eliminadas: {df.shape[0] - df_clean.shape[0]}\")\n",
    "print(f\"Columnas: {df_clean.shape[1]}\")\n",
    "print(f\"Valores faltantes restantes: {df_clean.isnull().sum().sum()}\")\n",
    "print(f\"Duplicados restantes: {df_clean.duplicated().sum()}\")\n",
    "print(\"=\"*60)\n",
    "\n",
    "# Mostrar primeras filas del dataset limpio\n",
    "print(\"\\nPrimeras 5 filas del dataset limpio:\")\n",
    "df_clean.head()\n"
   ]
  },
  {
   "cell_type": "markdown",
   "id": "5368c56d",
   "metadata": {},
   "source": [
    "\n"
   ]
  },
  {
   "cell_type": "code",
   "execution_count": null,
   "id": "569e63c4",
   "metadata": {},
   "outputs": [],
   "source": [
    "# Guardar el dataset limpio en formato CSV\n",
    "df_clean.to_csv('liver_cancer_data_clean.csv', index=False)\n",
    "print(\"✓ Dataset limpio guardado como 'liver_cancer_data_clean.csv'\")\n",
    "\n",
    "# Guardar también en formato pickle para uso posterior\n",
    "df_clean.to_pickle('liver_cancer_data_clean.pkl')\n",
    "print(\"✓ Dataset limpio guardado como 'liver_cancer_data_clean.pkl'\")\n",
    "\n",
    "print(f\"\\n✓ Proceso de limpieza completado exitosamente!\")\n"
   ]
  }
 ],
 "metadata": {
  "kernelspec": {
   "display_name": "Python 3",
   "language": "python",
   "name": "python3"
  },
  "language_info": {
   "name": "python",
   "version": "3.12.7"
  }
 },
 "nbformat": 4,
 "nbformat_minor": 5
}
