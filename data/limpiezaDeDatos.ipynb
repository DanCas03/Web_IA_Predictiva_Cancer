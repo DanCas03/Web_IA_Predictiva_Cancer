{
 "cells": [
  {
   "cell_type": "markdown",
   "id": "580e86f2",
   "metadata": {},
   "source": [
    "# Primero importo mi DataFrame"
   ]
  },
  {
   "cell_type": "code",
   "execution_count": null,
   "id": "d88b7ce9",
   "metadata": {},
   "outputs": [],
   "source": [
    "import pandas as pd\n",
    "# Cargar df desde pickle\n",
    "df = pd.read_pickle('data/liver_cancer_data.pkl')\n",
    "# Ahora puedes usar df en este script\n",
    "print(\"DataFrame cargado con éxito.\")\n",
    "print(df.head())"
   ]
  },
  {
   "cell_type": "markdown",
   "id": "3acdaa96",
   "metadata": {},
   "source": [
    "# Vamos a chequear si hay valores atípicos"
   ]
  },
  {
   "cell_type": "code",
   "execution_count": null,
   "id": "9ce8e508",
   "metadata": {},
   "outputs": [],
   "source": [
    "import seaborn as sns\n",
    "import matplotlib.pyplot as plt\n",
    "\n",
    "for col in df.columns:\n",
    "    plt.figure(figsize=(8, 6))\n",
    "    sns.boxplot(x=df[col])\n",
    "    plt.title(col)\n",
    "    plt.show()"
   ]
  }
 ],
 "metadata": {
  "kernelspec": {
   "display_name": "Python 3",
   "language": "python",
   "name": "python3"
  },
  "language_info": {
   "name": "python",
   "version": "3.12.7"
  }
 },
 "nbformat": 4,
 "nbformat_minor": 5
}
